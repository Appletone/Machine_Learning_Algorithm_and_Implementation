{
 "cells": [
  {
   "cell_type": "markdown",
   "metadata": {},
   "source": [
    "# 1. 機器學習的基礎"
   ]
  },
  {
   "cell_type": "code",
   "execution_count": 1,
   "metadata": {},
   "outputs": [
    {
     "name": "stdout",
     "output_type": "stream",
     "text": [
      "Populating the interactive namespace from numpy and matplotlib\n"
     ]
    }
   ],
   "source": [
    "%pylab inline"
   ]
  },
  {
   "cell_type": "code",
   "execution_count": 4,
   "metadata": {},
   "outputs": [
    {
     "name": "stdout",
     "output_type": "stream",
     "text": [
      "[[ 6.164414]]\n",
      "10\n",
      "5\n",
      "[[ 0.92966968]]\n"
     ]
    }
   ],
   "source": [
    "# -*- coding: utf-8 -*-\n",
    "\n",
    "import sys  \n",
    "import os\n",
    "import time\n",
    "from numpy import *\n",
    "import imp\n",
    "\n",
    "# 配置utf-8输出环境\n",
    "imp.reload(sys)\n",
    "# sys.setdefaultencoding('utf-8')\n",
    "\n",
    "vector1 = mat([1,2,3])\n",
    "vector2 = mat([4,7,5])\n",
    "\n",
    "print(sqrt((vector1-vector2)*((vector1-vector2).T)))\n",
    "\n",
    "print(sum(abs(vector1-vector2)))\n",
    "\n",
    "print(abs(vector1-vector2).max())\n",
    "\n",
    "#计算夹角余弦\n",
    "Lv1 = sqrt(vector1*vector1.T)\n",
    "Lv2 = sqrt(vector2*vector2.T)\n",
    "cosV12 = vector1*vector2.T/(Lv1*Lv2)\n",
    "print(cosV12)"
   ]
  },
  {
   "cell_type": "code",
   "execution_count": 6,
   "metadata": {},
   "outputs": [
    {
     "name": "stdout",
     "output_type": "stream",
     "text": [
      "[[1 1 0 1 0 1 0 0 1]\n",
      " [0 1 1 0 0 0 1 1 1]]\n",
      "dist.jaccard: [ 0.75]\n"
     ]
    }
   ],
   "source": [
    "# -*- coding: utf-8 -*-\n",
    "\n",
    "import sys  \n",
    "import os\n",
    "import time\n",
    "from numpy import *\n",
    "import scipy.spatial.distance as dist\n",
    "import imp\n",
    "\n",
    "# 配置utf-8输出环境\n",
    "imp.reload(sys)\n",
    "# sys.setdefaultencoding('utf-8')\n",
    "\n",
    "Vector1 = array([1,1,0,1,0,1,0,0,1])\n",
    "Vector2 = array([0,1,1,0,0,0,1,1,1])\n",
    "matV = mat([Vector1 ,Vector2])\n",
    "print(matV)\n",
    "print(\"dist.jaccard:\",dist.pdist(matV,'jaccard'))"
   ]
  },
  {
   "cell_type": "code",
   "execution_count": null,
   "metadata": {
    "collapsed": true
   },
   "outputs": [],
   "source": []
  }
 ],
 "metadata": {
  "kernelspec": {
   "display_name": "Python 3",
   "language": "python",
   "name": "python3"
  },
  "language_info": {
   "codemirror_mode": {
    "name": "ipython",
    "version": 3
   },
   "file_extension": ".py",
   "mimetype": "text/x-python",
   "name": "python",
   "nbconvert_exporter": "python",
   "pygments_lexer": "ipython3",
   "version": "3.5.3"
  }
 },
 "nbformat": 4,
 "nbformat_minor": 2
}
